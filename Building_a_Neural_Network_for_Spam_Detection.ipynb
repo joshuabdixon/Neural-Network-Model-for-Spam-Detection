{
  "nbformat": 4,
  "nbformat_minor": 0,
  "metadata": {
    "colab": {
      "provenance": [],
      "include_colab_link": true
    },
    "kernelspec": {
      "name": "python3",
      "display_name": "Python 3"
    },
    "language_info": {
      "name": "python"
    }
  },
  "cells": [
    {
      "cell_type": "markdown",
      "metadata": {
        "id": "view-in-github",
        "colab_type": "text"
      },
      "source": [
        "<a href=\"https://colab.research.google.com/github/joshuabdixon/Neural-Network-Model-for-Spam-Detection/blob/main/Building_a_Neural_Network_for_Spam_Detection.ipynb\" target=\"_parent\"><img src=\"https://colab.research.google.com/assets/colab-badge.svg\" alt=\"Open In Colab\"/></a>"
      ]
    },
    {
      "cell_type": "markdown",
      "source": [
        "# Building a basic neural network for spam detection\n",
        "\n",
        "## Scenario\n",
        "Hopkins et al. (1999) created the Spambase data set donated to the UCI Machine Learning Repository. The data set contains 4,601 emails marked as spam or non-spam by a postmaster or individuals. Fifty-seven features aid in classifying emails as spam (e.g. word frequencies and email characteristics). The Spambase data set is used for developing and benchmarking spam detection models, providing a base for analysing the effectiveness of various machine learning techniques in distinguishing between spam and legitimate emails.\n",
        "\n",
        "I tackled this problem by developing a neural network with TensorFlow that can classify emails as spam or non spam. The model has been developed based on the Spambase data set.\n",
        "\n",
        "## Rationale and Approach\n",
        "\n",
        "I developed a Sequential model using TensorFlow, strategically adding layers and employing a model pipeline to evaluate performance. The dataset was split into training (80%), validation (10%), and test (20%) sets to ensure unbiased evaluation. With 39% of emails labeled as spam, a threshold of 0.5 was used for binary classification.\n",
        "\n",
        "The model architecture included 64 neurons in the first hidden layer and 32 in the second, both using 'relu' activation to capture complex patterns and prevent the vanishing gradient problem. The output layer used 'sigmoid' activation for probability scoring. The Adam optimiser was chosen for its adaptive learning rates and efficiency, and binary crossentropy loss was used to measure prediction accuracy.\n",
        "\n",
        "To optimise the model, I conducted hyperparameter tuning: experimenting with 1 to 7 layers, batch sizes (16, 32, 64, 128), and epochs (10, 20, 30). This systematic approach allowed me to refine the model incrementally and achieve the best performance.\n",
        "\n",
        "I addressed potential overfitting by monitoring validation metrics and ensuring the model generalises well. This project demonstrates my problem-solving skills in neural network design, data preprocessing, model evaluation, and optimising performance. Detailed rationale and additional insights are documented in the code.\n",
        "\n",
        "## Key Insights\n",
        "- Improving Training Metrics: The training loss and accuracy show consistent improvement, indicating that the model is effectively learning from the training data.\n",
        "- Improving Validation Metrics: The validation loss and accuracy also improve steadily, suggesting that the model is generalising well and not overfitting significantly.\n",
        "- Good Test Performance: The test accuracy of approximately 95% is strong, indicating that the model generalises well to unseen data.\n",
        "\n",
        "## Reflections\n",
        "The use of a 0.5 threshold for binary classification was chosen for simplicity. Future work could involve adjusting the threshold to improve sensitivity (recall) or specificity (precision). Given that 39% of the emails are spam, exploring other thresholds could optimise performance, particularly in terms of precision and recall.\n",
        "\n",
        "The Adam optimiser worked effectively, but further experimentation with other optimisers like RMSprop or alternative activation functions such as Leaky ReLU could be explored to ensure robustness.\n",
        "\n",
        "Hyperparameter tuning of layers, batch sizes, and epochs had a negative impact on model performance. This will be explored further. It is possible\n",
        "\n",
        " This project demonstrates my ability to apply the complete TensorFlow lifecycle and derive actionable insights from data."
      ],
      "metadata": {
        "id": "LIrag9UBW4Gx"
      }
    },
    {
      "cell_type": "markdown",
      "source": [
        "## Features\n",
        "- A full list of the features can be downloaded [here](https://archive.ics.uci.edu/dataset/94/spambase).\n",
        "- The last column in the dataset idicates whether an email is spam (1) or non-spam(0)"
      ],
      "metadata": {
        "id": "4dZa7bPo4Kiz"
      }
    },
    {
      "cell_type": "markdown",
      "source": [
        "## Contents\n",
        "**Phase 1: Initial Model**\n",
        "1. Import relevant libraries and visualise the data\n",
        "2. Define input features (x) and target variably (y)\n",
        "3. Split data into train, validation and test sets and standardise the features\n",
        "4. Define the sequential model\n",
        "5. Compile the model\n",
        "6. Train and evaluate the model\n",
        "\n",
        "**Phase 2: Hyperparameter Tuning**\n",
        "1. Build functions for hyperparameter tuning\n",
        "2. Define the new model\n",
        "3. Train and evaluate the model\n",
        "4. Additional models with number of parameters\n",
        "5. Experiment with number of layers\n",
        "6. Experiment with batch sizes\n",
        "7. Experiment with epochs\n",
        "8. Best Model Training and Evaluation\n",
        "\n"
      ],
      "metadata": {
        "id": "pTg2A0A-2_Ph"
      }
    },
    {
      "cell_type": "markdown",
      "source": [
        "# Phase 1: Initial Model"
      ],
      "metadata": {
        "id": "_ERxgaKQZ72P"
      }
    },
    {
      "cell_type": "markdown",
      "source": [
        "# 1. Import relevant libraries and visualise the data"
      ],
      "metadata": {
        "id": "B8YNutBmACVR"
      }
    },
    {
      "cell_type": "code",
      "execution_count": null,
      "metadata": {
        "id": "07jMZscsQLJ6"
      },
      "outputs": [],
      "source": [
        "# Import necessary libraries.\n",
        "import keras\n",
        "import tensorflow as tf\n",
        "import pandas as pd\n",
        "\n",
        "from tensorflow.keras.models import Sequential\n",
        "from tensorflow.keras.layers import Dense\n",
        "from tensorflow.keras.optimizers import Adam\n",
        "\n",
        "from sklearn.preprocessing import StandardScaler\n",
        "from sklearn.model_selection import train_test_split\n",
        "\n",
        "# URL to import data set from GitHub.\n",
        "url = 'https://raw.githubusercontent.com/fourthrevlxd/cam_dsb/main/spamdata.csv'"
      ]
    },
    {
      "cell_type": "code",
      "source": [
        "# Load the dataset from the local path\n",
        "data = pd.read_csv(url, header=None)\n",
        "data.head()"
      ],
      "metadata": {
        "colab": {
          "base_uri": "https://localhost:8080/",
          "height": 236
        },
        "id": "_0gezmrcEXBP",
        "outputId": "dd9d05f6-b8f3-4591-e771-7c6bd3887a84"
      },
      "execution_count": null,
      "outputs": [
        {
          "output_type": "execute_result",
          "data": {
            "text/plain": [
              "     0     1     2    3     4     5     6     7     8     9   ...    48  \\\n",
              "0  0.00  0.64  0.64  0.0  0.32  0.00  0.00  0.00  0.00  0.00  ...  0.00   \n",
              "1  0.21  0.28  0.50  0.0  0.14  0.28  0.21  0.07  0.00  0.94  ...  0.00   \n",
              "2  0.06  0.00  0.71  0.0  1.23  0.19  0.19  0.12  0.64  0.25  ...  0.01   \n",
              "3  0.00  0.00  0.00  0.0  0.63  0.00  0.31  0.63  0.31  0.63  ...  0.00   \n",
              "4  0.00  0.00  0.00  0.0  0.63  0.00  0.31  0.63  0.31  0.63  ...  0.00   \n",
              "\n",
              "      49   50     51     52     53     54   55    56  57  \n",
              "0  0.000  0.0  0.778  0.000  0.000  3.756   61   278   1  \n",
              "1  0.132  0.0  0.372  0.180  0.048  5.114  101  1028   1  \n",
              "2  0.143  0.0  0.276  0.184  0.010  9.821  485  2259   1  \n",
              "3  0.137  0.0  0.137  0.000  0.000  3.537   40   191   1  \n",
              "4  0.135  0.0  0.135  0.000  0.000  3.537   40   191   1  \n",
              "\n",
              "[5 rows x 58 columns]"
            ],
            "text/html": [
              "\n",
              "  <div id=\"df-67a09278-648b-427c-9a10-94294d2ecd10\" class=\"colab-df-container\">\n",
              "    <div>\n",
              "<style scoped>\n",
              "    .dataframe tbody tr th:only-of-type {\n",
              "        vertical-align: middle;\n",
              "    }\n",
              "\n",
              "    .dataframe tbody tr th {\n",
              "        vertical-align: top;\n",
              "    }\n",
              "\n",
              "    .dataframe thead th {\n",
              "        text-align: right;\n",
              "    }\n",
              "</style>\n",
              "<table border=\"1\" class=\"dataframe\">\n",
              "  <thead>\n",
              "    <tr style=\"text-align: right;\">\n",
              "      <th></th>\n",
              "      <th>0</th>\n",
              "      <th>1</th>\n",
              "      <th>2</th>\n",
              "      <th>3</th>\n",
              "      <th>4</th>\n",
              "      <th>5</th>\n",
              "      <th>6</th>\n",
              "      <th>7</th>\n",
              "      <th>8</th>\n",
              "      <th>9</th>\n",
              "      <th>...</th>\n",
              "      <th>48</th>\n",
              "      <th>49</th>\n",
              "      <th>50</th>\n",
              "      <th>51</th>\n",
              "      <th>52</th>\n",
              "      <th>53</th>\n",
              "      <th>54</th>\n",
              "      <th>55</th>\n",
              "      <th>56</th>\n",
              "      <th>57</th>\n",
              "    </tr>\n",
              "  </thead>\n",
              "  <tbody>\n",
              "    <tr>\n",
              "      <th>0</th>\n",
              "      <td>0.00</td>\n",
              "      <td>0.64</td>\n",
              "      <td>0.64</td>\n",
              "      <td>0.0</td>\n",
              "      <td>0.32</td>\n",
              "      <td>0.00</td>\n",
              "      <td>0.00</td>\n",
              "      <td>0.00</td>\n",
              "      <td>0.00</td>\n",
              "      <td>0.00</td>\n",
              "      <td>...</td>\n",
              "      <td>0.00</td>\n",
              "      <td>0.000</td>\n",
              "      <td>0.0</td>\n",
              "      <td>0.778</td>\n",
              "      <td>0.000</td>\n",
              "      <td>0.000</td>\n",
              "      <td>3.756</td>\n",
              "      <td>61</td>\n",
              "      <td>278</td>\n",
              "      <td>1</td>\n",
              "    </tr>\n",
              "    <tr>\n",
              "      <th>1</th>\n",
              "      <td>0.21</td>\n",
              "      <td>0.28</td>\n",
              "      <td>0.50</td>\n",
              "      <td>0.0</td>\n",
              "      <td>0.14</td>\n",
              "      <td>0.28</td>\n",
              "      <td>0.21</td>\n",
              "      <td>0.07</td>\n",
              "      <td>0.00</td>\n",
              "      <td>0.94</td>\n",
              "      <td>...</td>\n",
              "      <td>0.00</td>\n",
              "      <td>0.132</td>\n",
              "      <td>0.0</td>\n",
              "      <td>0.372</td>\n",
              "      <td>0.180</td>\n",
              "      <td>0.048</td>\n",
              "      <td>5.114</td>\n",
              "      <td>101</td>\n",
              "      <td>1028</td>\n",
              "      <td>1</td>\n",
              "    </tr>\n",
              "    <tr>\n",
              "      <th>2</th>\n",
              "      <td>0.06</td>\n",
              "      <td>0.00</td>\n",
              "      <td>0.71</td>\n",
              "      <td>0.0</td>\n",
              "      <td>1.23</td>\n",
              "      <td>0.19</td>\n",
              "      <td>0.19</td>\n",
              "      <td>0.12</td>\n",
              "      <td>0.64</td>\n",
              "      <td>0.25</td>\n",
              "      <td>...</td>\n",
              "      <td>0.01</td>\n",
              "      <td>0.143</td>\n",
              "      <td>0.0</td>\n",
              "      <td>0.276</td>\n",
              "      <td>0.184</td>\n",
              "      <td>0.010</td>\n",
              "      <td>9.821</td>\n",
              "      <td>485</td>\n",
              "      <td>2259</td>\n",
              "      <td>1</td>\n",
              "    </tr>\n",
              "    <tr>\n",
              "      <th>3</th>\n",
              "      <td>0.00</td>\n",
              "      <td>0.00</td>\n",
              "      <td>0.00</td>\n",
              "      <td>0.0</td>\n",
              "      <td>0.63</td>\n",
              "      <td>0.00</td>\n",
              "      <td>0.31</td>\n",
              "      <td>0.63</td>\n",
              "      <td>0.31</td>\n",
              "      <td>0.63</td>\n",
              "      <td>...</td>\n",
              "      <td>0.00</td>\n",
              "      <td>0.137</td>\n",
              "      <td>0.0</td>\n",
              "      <td>0.137</td>\n",
              "      <td>0.000</td>\n",
              "      <td>0.000</td>\n",
              "      <td>3.537</td>\n",
              "      <td>40</td>\n",
              "      <td>191</td>\n",
              "      <td>1</td>\n",
              "    </tr>\n",
              "    <tr>\n",
              "      <th>4</th>\n",
              "      <td>0.00</td>\n",
              "      <td>0.00</td>\n",
              "      <td>0.00</td>\n",
              "      <td>0.0</td>\n",
              "      <td>0.63</td>\n",
              "      <td>0.00</td>\n",
              "      <td>0.31</td>\n",
              "      <td>0.63</td>\n",
              "      <td>0.31</td>\n",
              "      <td>0.63</td>\n",
              "      <td>...</td>\n",
              "      <td>0.00</td>\n",
              "      <td>0.135</td>\n",
              "      <td>0.0</td>\n",
              "      <td>0.135</td>\n",
              "      <td>0.000</td>\n",
              "      <td>0.000</td>\n",
              "      <td>3.537</td>\n",
              "      <td>40</td>\n",
              "      <td>191</td>\n",
              "      <td>1</td>\n",
              "    </tr>\n",
              "  </tbody>\n",
              "</table>\n",
              "<p>5 rows × 58 columns</p>\n",
              "</div>\n",
              "    <div class=\"colab-df-buttons\">\n",
              "\n",
              "  <div class=\"colab-df-container\">\n",
              "    <button class=\"colab-df-convert\" onclick=\"convertToInteractive('df-67a09278-648b-427c-9a10-94294d2ecd10')\"\n",
              "            title=\"Convert this dataframe to an interactive table.\"\n",
              "            style=\"display:none;\">\n",
              "\n",
              "  <svg xmlns=\"http://www.w3.org/2000/svg\" height=\"24px\" viewBox=\"0 -960 960 960\">\n",
              "    <path d=\"M120-120v-720h720v720H120Zm60-500h600v-160H180v160Zm220 220h160v-160H400v160Zm0 220h160v-160H400v160ZM180-400h160v-160H180v160Zm440 0h160v-160H620v160ZM180-180h160v-160H180v160Zm440 0h160v-160H620v160Z\"/>\n",
              "  </svg>\n",
              "    </button>\n",
              "\n",
              "  <style>\n",
              "    .colab-df-container {\n",
              "      display:flex;\n",
              "      gap: 12px;\n",
              "    }\n",
              "\n",
              "    .colab-df-convert {\n",
              "      background-color: #E8F0FE;\n",
              "      border: none;\n",
              "      border-radius: 50%;\n",
              "      cursor: pointer;\n",
              "      display: none;\n",
              "      fill: #1967D2;\n",
              "      height: 32px;\n",
              "      padding: 0 0 0 0;\n",
              "      width: 32px;\n",
              "    }\n",
              "\n",
              "    .colab-df-convert:hover {\n",
              "      background-color: #E2EBFA;\n",
              "      box-shadow: 0px 1px 2px rgba(60, 64, 67, 0.3), 0px 1px 3px 1px rgba(60, 64, 67, 0.15);\n",
              "      fill: #174EA6;\n",
              "    }\n",
              "\n",
              "    .colab-df-buttons div {\n",
              "      margin-bottom: 4px;\n",
              "    }\n",
              "\n",
              "    [theme=dark] .colab-df-convert {\n",
              "      background-color: #3B4455;\n",
              "      fill: #D2E3FC;\n",
              "    }\n",
              "\n",
              "    [theme=dark] .colab-df-convert:hover {\n",
              "      background-color: #434B5C;\n",
              "      box-shadow: 0px 1px 3px 1px rgba(0, 0, 0, 0.15);\n",
              "      filter: drop-shadow(0px 1px 2px rgba(0, 0, 0, 0.3));\n",
              "      fill: #FFFFFF;\n",
              "    }\n",
              "  </style>\n",
              "\n",
              "    <script>\n",
              "      const buttonEl =\n",
              "        document.querySelector('#df-67a09278-648b-427c-9a10-94294d2ecd10 button.colab-df-convert');\n",
              "      buttonEl.style.display =\n",
              "        google.colab.kernel.accessAllowed ? 'block' : 'none';\n",
              "\n",
              "      async function convertToInteractive(key) {\n",
              "        const element = document.querySelector('#df-67a09278-648b-427c-9a10-94294d2ecd10');\n",
              "        const dataTable =\n",
              "          await google.colab.kernel.invokeFunction('convertToInteractive',\n",
              "                                                    [key], {});\n",
              "        if (!dataTable) return;\n",
              "\n",
              "        const docLinkHtml = 'Like what you see? Visit the ' +\n",
              "          '<a target=\"_blank\" href=https://colab.research.google.com/notebooks/data_table.ipynb>data table notebook</a>'\n",
              "          + ' to learn more about interactive tables.';\n",
              "        element.innerHTML = '';\n",
              "        dataTable['output_type'] = 'display_data';\n",
              "        await google.colab.output.renderOutput(dataTable, element);\n",
              "        const docLink = document.createElement('div');\n",
              "        docLink.innerHTML = docLinkHtml;\n",
              "        element.appendChild(docLink);\n",
              "      }\n",
              "    </script>\n",
              "  </div>\n",
              "\n",
              "\n",
              "<div id=\"df-5af80fac-c7fb-4c6e-9a0f-506d77245c7b\">\n",
              "  <button class=\"colab-df-quickchart\" onclick=\"quickchart('df-5af80fac-c7fb-4c6e-9a0f-506d77245c7b')\"\n",
              "            title=\"Suggest charts\"\n",
              "            style=\"display:none;\">\n",
              "\n",
              "<svg xmlns=\"http://www.w3.org/2000/svg\" height=\"24px\"viewBox=\"0 0 24 24\"\n",
              "     width=\"24px\">\n",
              "    <g>\n",
              "        <path d=\"M19 3H5c-1.1 0-2 .9-2 2v14c0 1.1.9 2 2 2h14c1.1 0 2-.9 2-2V5c0-1.1-.9-2-2-2zM9 17H7v-7h2v7zm4 0h-2V7h2v10zm4 0h-2v-4h2v4z\"/>\n",
              "    </g>\n",
              "</svg>\n",
              "  </button>\n",
              "\n",
              "<style>\n",
              "  .colab-df-quickchart {\n",
              "      --bg-color: #E8F0FE;\n",
              "      --fill-color: #1967D2;\n",
              "      --hover-bg-color: #E2EBFA;\n",
              "      --hover-fill-color: #174EA6;\n",
              "      --disabled-fill-color: #AAA;\n",
              "      --disabled-bg-color: #DDD;\n",
              "  }\n",
              "\n",
              "  [theme=dark] .colab-df-quickchart {\n",
              "      --bg-color: #3B4455;\n",
              "      --fill-color: #D2E3FC;\n",
              "      --hover-bg-color: #434B5C;\n",
              "      --hover-fill-color: #FFFFFF;\n",
              "      --disabled-bg-color: #3B4455;\n",
              "      --disabled-fill-color: #666;\n",
              "  }\n",
              "\n",
              "  .colab-df-quickchart {\n",
              "    background-color: var(--bg-color);\n",
              "    border: none;\n",
              "    border-radius: 50%;\n",
              "    cursor: pointer;\n",
              "    display: none;\n",
              "    fill: var(--fill-color);\n",
              "    height: 32px;\n",
              "    padding: 0;\n",
              "    width: 32px;\n",
              "  }\n",
              "\n",
              "  .colab-df-quickchart:hover {\n",
              "    background-color: var(--hover-bg-color);\n",
              "    box-shadow: 0 1px 2px rgba(60, 64, 67, 0.3), 0 1px 3px 1px rgba(60, 64, 67, 0.15);\n",
              "    fill: var(--button-hover-fill-color);\n",
              "  }\n",
              "\n",
              "  .colab-df-quickchart-complete:disabled,\n",
              "  .colab-df-quickchart-complete:disabled:hover {\n",
              "    background-color: var(--disabled-bg-color);\n",
              "    fill: var(--disabled-fill-color);\n",
              "    box-shadow: none;\n",
              "  }\n",
              "\n",
              "  .colab-df-spinner {\n",
              "    border: 2px solid var(--fill-color);\n",
              "    border-color: transparent;\n",
              "    border-bottom-color: var(--fill-color);\n",
              "    animation:\n",
              "      spin 1s steps(1) infinite;\n",
              "  }\n",
              "\n",
              "  @keyframes spin {\n",
              "    0% {\n",
              "      border-color: transparent;\n",
              "      border-bottom-color: var(--fill-color);\n",
              "      border-left-color: var(--fill-color);\n",
              "    }\n",
              "    20% {\n",
              "      border-color: transparent;\n",
              "      border-left-color: var(--fill-color);\n",
              "      border-top-color: var(--fill-color);\n",
              "    }\n",
              "    30% {\n",
              "      border-color: transparent;\n",
              "      border-left-color: var(--fill-color);\n",
              "      border-top-color: var(--fill-color);\n",
              "      border-right-color: var(--fill-color);\n",
              "    }\n",
              "    40% {\n",
              "      border-color: transparent;\n",
              "      border-right-color: var(--fill-color);\n",
              "      border-top-color: var(--fill-color);\n",
              "    }\n",
              "    60% {\n",
              "      border-color: transparent;\n",
              "      border-right-color: var(--fill-color);\n",
              "    }\n",
              "    80% {\n",
              "      border-color: transparent;\n",
              "      border-right-color: var(--fill-color);\n",
              "      border-bottom-color: var(--fill-color);\n",
              "    }\n",
              "    90% {\n",
              "      border-color: transparent;\n",
              "      border-bottom-color: var(--fill-color);\n",
              "    }\n",
              "  }\n",
              "</style>\n",
              "\n",
              "  <script>\n",
              "    async function quickchart(key) {\n",
              "      const quickchartButtonEl =\n",
              "        document.querySelector('#' + key + ' button');\n",
              "      quickchartButtonEl.disabled = true;  // To prevent multiple clicks.\n",
              "      quickchartButtonEl.classList.add('colab-df-spinner');\n",
              "      try {\n",
              "        const charts = await google.colab.kernel.invokeFunction(\n",
              "            'suggestCharts', [key], {});\n",
              "      } catch (error) {\n",
              "        console.error('Error during call to suggestCharts:', error);\n",
              "      }\n",
              "      quickchartButtonEl.classList.remove('colab-df-spinner');\n",
              "      quickchartButtonEl.classList.add('colab-df-quickchart-complete');\n",
              "    }\n",
              "    (() => {\n",
              "      let quickchartButtonEl =\n",
              "        document.querySelector('#df-5af80fac-c7fb-4c6e-9a0f-506d77245c7b button');\n",
              "      quickchartButtonEl.style.display =\n",
              "        google.colab.kernel.accessAllowed ? 'block' : 'none';\n",
              "    })();\n",
              "  </script>\n",
              "</div>\n",
              "    </div>\n",
              "  </div>\n"
            ],
            "application/vnd.google.colaboratory.intrinsic+json": {
              "type": "dataframe",
              "variable_name": "data"
            }
          },
          "metadata": {},
          "execution_count": 3
        }
      ]
    },
    {
      "cell_type": "markdown",
      "source": [
        "**Dataset Note:**\n",
        "The Spambase dataset does not include a header row. While headers are not necessary for creating a neural network, a full list of the features can be downloaded [here](https://archive.ics.uci.edu/dataset/94/spambase)."
      ],
      "metadata": {
        "id": "_imspft8Cc7i"
      }
    },
    {
      "cell_type": "markdown",
      "source": [
        "# 2. Define input features (x) and target variably (y)"
      ],
      "metadata": {
        "id": "ASHtxyfyAHLf"
      }
    },
    {
      "cell_type": "code",
      "source": [
        "# The last column is the target variable\n",
        "X = data.iloc[:, :-1] # All columns except the last one\n",
        "y = data.iloc[:,-1] # The last column"
      ],
      "metadata": {
        "id": "sGjXfkc-2Uw1"
      },
      "execution_count": null,
      "outputs": []
    },
    {
      "cell_type": "code",
      "source": [
        "spam_ratio = y.mean()\n",
        "spam_ratio"
      ],
      "metadata": {
        "colab": {
          "base_uri": "https://localhost:8080/"
        },
        "id": "D59CYKQ7ly0W",
        "outputId": "38f50c70-e8a6-478c-b305-708e5980aa88"
      },
      "execution_count": null,
      "outputs": [
        {
          "output_type": "execute_result",
          "data": {
            "text/plain": [
              "0.39404477287546186"
            ]
          },
          "metadata": {},
          "execution_count": 5
        }
      ]
    },
    {
      "cell_type": "markdown",
      "source": [
        "- Since 39% of the emails are spam, this is a relatively balanced dataset but still leans towards the majority class (not spam).\n",
        "- A threshold of 0.5 might be reasonable, but exploring other thresholds in future work could improve performance, especially in terms of precision and recall."
      ],
      "metadata": {
        "id": "HcA3lle1m_Ll"
      }
    },
    {
      "cell_type": "code",
      "source": [
        "# Check the shapes to confirm\n",
        "print(\"Shape of X:\", X.shape)  # Should be (number of rows, 57)\n",
        "print(\"Shape of y:\", y.shape)  # Should be (number of rows,)\n",
        "\n",
        "# Display the first few rows of X to verify\n",
        "print(\"First 5 rows of X:\")\n",
        "print(X.head())\n",
        "\n",
        "# Display the first few rows of y to verify\n",
        "print(\"First 5 rows of y:\")\n",
        "print(y.head())"
      ],
      "metadata": {
        "colab": {
          "base_uri": "https://localhost:8080/"
        },
        "id": "QTr5JakRN75z",
        "outputId": "72cb16a9-4487-44b3-ee78-bc66690809f6"
      },
      "execution_count": null,
      "outputs": [
        {
          "output_type": "stream",
          "name": "stdout",
          "text": [
            "Shape of X: (4601, 57)\n",
            "Shape of y: (4601,)\n",
            "First 5 rows of X:\n",
            "     0     1     2    3     4     5     6     7     8     9   ...   47    48  \\\n",
            "0  0.00  0.64  0.64  0.0  0.32  0.00  0.00  0.00  0.00  0.00  ...  0.0  0.00   \n",
            "1  0.21  0.28  0.50  0.0  0.14  0.28  0.21  0.07  0.00  0.94  ...  0.0  0.00   \n",
            "2  0.06  0.00  0.71  0.0  1.23  0.19  0.19  0.12  0.64  0.25  ...  0.0  0.01   \n",
            "3  0.00  0.00  0.00  0.0  0.63  0.00  0.31  0.63  0.31  0.63  ...  0.0  0.00   \n",
            "4  0.00  0.00  0.00  0.0  0.63  0.00  0.31  0.63  0.31  0.63  ...  0.0  0.00   \n",
            "\n",
            "      49   50     51     52     53     54   55    56  \n",
            "0  0.000  0.0  0.778  0.000  0.000  3.756   61   278  \n",
            "1  0.132  0.0  0.372  0.180  0.048  5.114  101  1028  \n",
            "2  0.143  0.0  0.276  0.184  0.010  9.821  485  2259  \n",
            "3  0.137  0.0  0.137  0.000  0.000  3.537   40   191  \n",
            "4  0.135  0.0  0.135  0.000  0.000  3.537   40   191  \n",
            "\n",
            "[5 rows x 57 columns]\n",
            "First 5 rows of y:\n",
            "0    1\n",
            "1    1\n",
            "2    1\n",
            "3    1\n",
            "4    1\n",
            "Name: 57, dtype: int64\n"
          ]
        }
      ]
    },
    {
      "cell_type": "markdown",
      "source": [
        "# 3. Split data into train, validation and test sets and standardise the features"
      ],
      "metadata": {
        "id": "bOe1wzxUAMU6"
      }
    },
    {
      "cell_type": "markdown",
      "source": [
        "A two-stage split has been chosen to ensure the training set is large enough to train the model effectively before creating the validation set.\n",
        "\n",
        "In the initial train-test split, the full dataset is divided into a large training set (e.g., 80%) and a separate test set (e.g., 20%). This ensures that the final test set remains untouched and representative of the entire dataset.\n",
        "\n",
        "The training set is then further split for validation purposes. It is divided into a slightly smaller training set (e.g., 90% of the 80% training set) and a validation set (e.g., 10% of the 80% training set).\n",
        "\n",
        "This two-stage splitting ensures that the test set remains completely independent of the training and validation processes, providing an unbiased evaluation of the model's performance."
      ],
      "metadata": {
        "id": "O4f6lO6Y_9sN"
      }
    },
    {
      "cell_type": "code",
      "source": [
        "# Split data into train (80%) and test (20%) sets\n",
        "X_train_full, X_test, y_train_full, y_test = train_test_split(X, y, test_size=0.2, random_state=42)\n",
        "\n",
        "# Further split the training data into training (90%) and validation (10%) sets\n",
        "X_train, X_valid, y_train, y_valid = train_test_split(X_train_full, y_train_full, test_size=0.1, random_state=42)"
      ],
      "metadata": {
        "id": "Dn0vVUGPAhDv"
      },
      "execution_count": null,
      "outputs": []
    },
    {
      "cell_type": "code",
      "source": [
        "# Standardise the features\n",
        "scaler = StandardScaler()\n",
        "X_train = scaler.fit_transform(X_train)\n",
        "X_valid = scaler.transform(X_valid)\n",
        "X_test = scaler.transform(X_test)"
      ],
      "metadata": {
        "id": "yZ7_bnReAhXJ"
      },
      "execution_count": null,
      "outputs": []
    },
    {
      "cell_type": "code",
      "source": [
        "X_train.shape"
      ],
      "metadata": {
        "colab": {
          "base_uri": "https://localhost:8080/"
        },
        "id": "UWt5i8fWNZuC",
        "outputId": "7e7f99d8-ab71-4685-9b6d-a7a404142f69"
      },
      "execution_count": null,
      "outputs": [
        {
          "output_type": "execute_result",
          "data": {
            "text/plain": [
              "(3312, 57)"
            ]
          },
          "metadata": {},
          "execution_count": 9
        }
      ]
    },
    {
      "cell_type": "markdown",
      "source": [
        "#4. Define the sequential model"
      ],
      "metadata": {
        "id": "KLs8MTQXARXA"
      }
    },
    {
      "cell_type": "markdown",
      "source": [
        "- Sequential model is chosen because it allows us to build a straightforward stack of layers from input to output, which is appropriate for the spam classification problem.\n",
        "- The first hidden layer has 64 neurons to capture complex patterns in the data. The 'relu' activation function is used because it helps prevent the vanishing gradient problem and allows the model to learn non-linear relationships.\n",
        "- The second hidden layer has 32 neurons to gradually reduce the complexity of the model. 'relu' is again used as it is effective for training deep neural networks by introducing non-linearity.\n",
        "- The output layer has 1 neuron because we are performing binary classification (spam or not spam). The 'sigmoid' activation function is used to output a probability score between 0 and 1, making it suitable for binary classification tasks."
      ],
      "metadata": {
        "id": "W1AUZlHjLqlE"
      }
    },
    {
      "cell_type": "code",
      "source": [
        "# Create a sequential model.\n",
        "model = Sequential()\n",
        "\n",
        "# Add dense layers to the model.\n",
        "# First hidden layer with 64 units and ReLU activation.\n",
        "model.add(Dense(64, input_shape=(X_train.shape[-1],), activation = 'relu'))\n",
        "\n",
        "# Second hidden layer with 32 units and ReLU activation.\n",
        "model.add(Dense(32, activation = 'relu'))\n",
        "\n",
        "# Output layer with 1 unit and Sigmoid activation\n",
        "model.add(Dense(1, activation = 'sigmoid'))\n"
      ],
      "metadata": {
        "id": "IZh1iCzPAht5"
      },
      "execution_count": null,
      "outputs": []
    },
    {
      "cell_type": "code",
      "source": [
        "from tensorflow.keras.utils import plot_model\n",
        "\n",
        "plot_model(model, to_file='model_architecture.png', show_shapes=True, show_layer_names=True)\n"
      ],
      "metadata": {
        "colab": {
          "base_uri": "https://localhost:8080/",
          "height": 422
        },
        "id": "kUl2x54cscSQ",
        "outputId": "d3be8649-4ba0-4ea6-82ba-75f42583acc4"
      },
      "execution_count": null,
      "outputs": [
        {
          "output_type": "execute_result",
          "data": {
            "image/png": "[encoded data removed]",
            "text/plain": [
              "<IPython.core.display.Image object>"
            ]
          },
          "metadata": {},
          "execution_count": 11
        }
      ]
    },
    {
      "cell_type": "markdown",
      "source": [
        "#5. Compile the model\n",
        "**Adam Optimiser**: suitable for handling large datasets with many parameters. It adapts the learning rate for each parameter and includes momentum, which helps in achieving faster convergence and better performance.\n",
        "\n",
        "**Binary Crossentropy Loss**: Ideal for binary classification tasks as it measures the difference between actual labels and predicted probabilities. It ensures the model is penalised appropriately for incorrect predictions, aiding in better learning.\n",
        "\n",
        "**Accuracy Metric:** Accuracy is selected because it provides a clear and intuitive measure of the model's performance.\n"
      ],
      "metadata": {
        "id": "Z4GOKtNlAUCf"
      }
    },
    {
      "cell_type": "code",
      "source": [
        "# Compile the model with Adam optimizer\n",
        "model.compile(optimizer=Adam(), loss='binary_crossentropy', metrics=['accuracy'])\n",
        "\n",
        "# Display the model summary\n",
        "model.summary()"
      ],
      "metadata": {
        "id": "scYrpwMJAiFq",
        "colab": {
          "base_uri": "https://localhost:8080/"
        },
        "outputId": "0426636f-a9ba-4e47-d87e-aef2ae24e827"
      },
      "execution_count": null,
      "outputs": [
        {
          "output_type": "stream",
          "name": "stdout",
          "text": [
            "Model: \"sequential\"\n",
            "_________________________________________________________________\n",
            " Layer (type)                Output Shape              Param #   \n",
            "=================================================================\n",
            " dense (Dense)               (None, 64)                3712      \n",
            "                                                                 \n",
            " dense_1 (Dense)             (None, 32)                2080      \n",
            "                                                                 \n",
            " dense_2 (Dense)             (None, 1)                 33        \n",
            "                                                                 \n",
            "=================================================================\n",
            "Total params: 5825 (22.75 KB)\n",
            "Trainable params: 5825 (22.75 KB)\n",
            "Non-trainable params: 0 (0.00 Byte)\n",
            "_________________________________________________________________\n"
          ]
        }
      ]
    },
    {
      "cell_type": "markdown",
      "source": [
        "###Model Assessment and Intepretation:\n",
        "- The Spambase dataset has 57 features and 4601 samples. The model should be capable of learning from this number of features and samples.\n",
        "- The chosen architecture with 5825 parameters seems reasonable for this dataset size.\n",
        "- The model has a moderate number of parameters, striking a balance between capacity and complexity. This setup should allow the model to learn the underlying patterns without overfitting, given the dataset size and feature count."
      ],
      "metadata": {
        "id": "3xdZh43RcOZg"
      }
    },
    {
      "cell_type": "markdown",
      "source": [
        "#6. Train and Evaluate the model\n"
      ],
      "metadata": {
        "id": "x1GE0hzOg25r"
      }
    },
    {
      "cell_type": "code",
      "source": [
        "# Train the model.\n",
        "history = model.fit(X_train, y_train, epochs=10, batch_size=64, validation_split=0.2)\n",
        "\n",
        "# Evaluate the model.\n",
        "loss, accuracy = model.evaluate(X_test, y_test)\n",
        "\n",
        "# Test model\n",
        "y_pred = (model.predict(X_test) > 0.5).astype(\"int32\")\n",
        "\n",
        "# View the output.\n",
        "print(\"\\nShape of training data (y_train): \", y_train.shape)\n",
        "print(f'Test Loss: {loss}, Test Accuracy: {accuracy}')"
      ],
      "metadata": {
        "colab": {
          "base_uri": "https://localhost:8080/"
        },
        "id": "ULwHEbjMf4RZ",
        "outputId": "8ea00db0-fb3f-4088-e55c-dbde5673fb2c"
      },
      "execution_count": null,
      "outputs": [
        {
          "output_type": "stream",
          "name": "stdout",
          "text": [
            "Epoch 1/10\n",
            "42/42 [==============================] - 5s 24ms/step - loss: 0.4302 - accuracy: 0.8475 - val_loss: 0.3077 - val_accuracy: 0.8989\n",
            "Epoch 2/10\n",
            "42/42 [==============================] - 0s 10ms/step - loss: 0.2731 - accuracy: 0.9086 - val_loss: 0.2424 - val_accuracy: 0.9170\n",
            "Epoch 3/10\n",
            "42/42 [==============================] - 0s 9ms/step - loss: 0.2268 - accuracy: 0.9234 - val_loss: 0.2197 - val_accuracy: 0.9231\n",
            "Epoch 4/10\n",
            "42/42 [==============================] - 1s 14ms/step - loss: 0.2017 - accuracy: 0.9317 - val_loss: 0.2051 - val_accuracy: 0.9336\n",
            "Epoch 5/10\n",
            "42/42 [==============================] - 0s 8ms/step - loss: 0.1840 - accuracy: 0.9366 - val_loss: 0.1963 - val_accuracy: 0.9382\n",
            "Epoch 6/10\n",
            "42/42 [==============================] - 0s 11ms/step - loss: 0.1716 - accuracy: 0.9396 - val_loss: 0.1900 - val_accuracy: 0.9367\n",
            "Epoch 7/10\n",
            "42/42 [==============================] - 0s 9ms/step - loss: 0.1622 - accuracy: 0.9434 - val_loss: 0.1822 - val_accuracy: 0.9382\n",
            "Epoch 8/10\n",
            "42/42 [==============================] - 0s 11ms/step - loss: 0.1533 - accuracy: 0.9449 - val_loss: 0.1776 - val_accuracy: 0.9336\n",
            "Epoch 9/10\n",
            "42/42 [==============================] - 0s 7ms/step - loss: 0.1466 - accuracy: 0.9487 - val_loss: 0.1731 - val_accuracy: 0.9351\n",
            "Epoch 10/10\n",
            "42/42 [==============================] - 0s 4ms/step - loss: 0.1391 - accuracy: 0.9494 - val_loss: 0.1698 - val_accuracy: 0.9397\n",
            "29/29 [==============================] - 0s 2ms/step - loss: 0.1583 - accuracy: 0.9435\n",
            "29/29 [==============================] - 0s 3ms/step\n",
            "\n",
            "Shape of training data (y_train):  (3312,)\n",
            "Test Loss: 0.1582847237586975, Test Accuracy: 0.9435396194458008\n"
          ]
        }
      ]
    },
    {
      "cell_type": "code",
      "source": [
        "import matplotlib.pyplot as plt\n",
        "\n",
        "# Plot training & validation loss values\n",
        "plt.figure(figsize=(10, 6))\n",
        "plt.plot(history.history['loss'])\n",
        "plt.plot(history.history['val_loss'])\n",
        "plt.title('Model Loss')\n",
        "plt.ylabel('Loss')\n",
        "plt.xlabel('Epoch')\n",
        "plt.legend(['Train', 'Validation'], loc='upper right')\n",
        "plt.show()\n"
      ],
      "metadata": {
        "colab": {
          "base_uri": "https://localhost:8080/",
          "height": 564
        },
        "id": "528ZXrcrsePB",
        "outputId": "64e173c2-f6bd-402b-a760-179e2e5214cc"
      },
      "execution_count": null,
      "outputs": [
        {
          "output_type": "display_data",
          "data": {
            "text/plain": [
              "<Figure size 1000x600 with 1 Axes>"
            ],
            "image/png": "[encoded data removed]"
          },
          "metadata": {}
        }
      ]
    },
    {
      "cell_type": "code",
      "source": [
        "# Plot training & validation accuracy values\n",
        "plt.figure(figsize=(10, 6))\n",
        "plt.plot(history.history['accuracy'])\n",
        "plt.plot(history.history['val_accuracy'])\n",
        "plt.title('Model Accuracy')\n",
        "plt.ylabel('Accuracy')\n",
        "plt.xlabel('Epoch')\n",
        "plt.legend(['Train', 'Validation'], loc='lower right')\n",
        "plt.show()\n"
      ],
      "metadata": {
        "colab": {
          "base_uri": "https://localhost:8080/",
          "height": 564
        },
        "id": "bFBE3LvKshQT",
        "outputId": "fdc1865d-62fd-48a4-94ea-35627af01e03"
      },
      "execution_count": null,
      "outputs": [
        {
          "output_type": "display_data",
          "data": {
            "text/plain": [
              "<Figure size 1000x600 with 1 Axes>"
            ],
            "image/png": "[encoded data removed]"
          },
          "metadata": {}
        }
      ]
    },
    {
      "cell_type": "markdown",
      "source": [
        "### Key Observations\n",
        "- Improving Training Metrics: The training loss and accuracy show consistent improvement, indicating that the model is effectively learning from the training data.\n",
        "- Improving Validation Metrics: The validation loss and accuracy also improve steadily, suggesting that the model is generalising well and not overfitting significantly.\n",
        "- Good Test Performance: The test accuracy of 94.57% is strong, indicating that the model generalizes well to unseen data."
      ],
      "metadata": {
        "id": "OG7cpIJ1itj2"
      }
    },
    {
      "cell_type": "markdown",
      "source": [
        "The model shows significant improvement in both training and validation metrics, with the final test accuracy at 94.57%. The validation loss and accuracy trends suggest that the model is not overfitting and maintains good generalisation. The substantial decrease in training and validation loss, along with high accuracy, indicates that the model is performing well and effectively learning the underlying patterns in the data."
      ],
      "metadata": {
        "id": "dkjm1uWJjWGp"
      }
    },
    {
      "cell_type": "code",
      "source": [
        "from sklearn.metrics import confusion_matrix\n",
        "import seaborn as sns\n",
        "\n",
        "# Compute confusion matrix\n",
        "cm = confusion_matrix(y_test, y_pred)\n",
        "\n",
        "# Plot confusion matrix\n",
        "plt.figure(figsize=(8, 6))\n",
        "sns.heatmap(cm, annot=True, fmt='d', cmap='Blues')\n",
        "plt.title('Confusion Matrix')\n",
        "plt.ylabel('Actual Label')\n",
        "plt.xlabel('Predicted Label')\n",
        "plt.show()\n"
      ],
      "metadata": {
        "colab": {
          "base_uri": "https://localhost:8080/",
          "height": 564
        },
        "id": "UYaT6xdHsjDa",
        "outputId": "4c0ea6f4-6a1e-40fe-c727-37a23daf4591"
      },
      "execution_count": null,
      "outputs": [
        {
          "output_type": "display_data",
          "data": {
            "text/plain": [
              "<Figure size 800x600 with 2 Axes>"
            ],
            "image/png": "[encoded data removed]"
          },
          "metadata": {}
        }
      ]
    },
    {
      "cell_type": "markdown",
      "source": [
        "This indicates that the model performs well in distinguishing between spam and non-spam emails, with a strong balance between precision and recall."
      ],
      "metadata": {
        "id": "CG5mpqoAuAUr"
      }
    },
    {
      "cell_type": "code",
      "source": [
        "from sklearn.metrics import roc_curve, auc\n",
        "import matplotlib.pyplot as plt\n",
        "\n",
        "# Predict probabilities for the test set\n",
        "y_pred_prob = model.predict(X_test)\n",
        "\n",
        "# Compute ROC curve and ROC area\n",
        "fpr, tpr, _ = roc_curve(y_test, y_pred_prob)\n",
        "roc_auc = auc(fpr, tpr)\n",
        "\n",
        "# Plot ROC curve\n",
        "plt.figure(figsize=(10, 6))\n",
        "plt.plot(fpr, tpr, color='darkorange', lw=2, label=f'ROC curve (area = {roc_auc:.2f})')\n",
        "plt.plot([0, 1], [0, 1], color='navy', lw=2, linestyle='--')\n",
        "plt.xlim([0.0, 1.0])\n",
        "plt.ylim([0.0, 1.05])\n",
        "plt.title('Receiver Operating Characteristic')\n",
        "plt.xlabel('False Positive Rate')\n",
        "plt.ylabel('True Positive Rate')\n",
        "plt.legend(loc='lower right')\n",
        "plt.show()\n"
      ],
      "metadata": {
        "colab": {
          "base_uri": "https://localhost:8080/",
          "height": 581
        },
        "id": "QVk19V5XskQH",
        "outputId": "28a2c12a-bf89-464f-c60c-71e6da575e46"
      },
      "execution_count": null,
      "outputs": [
        {
          "output_type": "stream",
          "name": "stdout",
          "text": [
            "29/29 [==============================] - 0s 2ms/step\n"
          ]
        },
        {
          "output_type": "display_data",
          "data": {
            "text/plain": [
              "<Figure size 1000x600 with 1 Axes>"
            ],
            "image/png": "[encoded data removed]"
          },
          "metadata": {}
        }
      ]
    },
    {
      "cell_type": "markdown",
      "source": [
        "### Interpretation\n",
        "The Receiver Operating Characteristic (ROC) curve illustrates the model's ability to distinguish between the positive class (spam) and the negative class (non-spam). The curve plots the True Positive Rate (sensitivity) against the False Positive Rate (1-specificity) at various threshold settings.\n",
        "\n",
        "The Area Under the Curve (AUC) is 0.98, which indicates excellent model performance, as a value close to 1 signifies a high ability to correctly classify spam and non-spam emails. The ROC curve's proximity to the top-left corner further confirms the model's strong discriminative power."
      ],
      "metadata": {
        "id": "Tk0Vnj-SuoZ6"
      }
    },
    {
      "cell_type": "markdown",
      "source": [
        "# Phase 2: Hyperparameter Tuning"
      ],
      "metadata": {
        "id": "IWENAtEBaN7w"
      }
    },
    {
      "cell_type": "markdown",
      "source": [
        "## 1. Build functions for hyperparameter tuning"
      ],
      "metadata": {
        "id": "vbG0qp20aRxE"
      }
    },
    {
      "cell_type": "markdown",
      "source": [
        "Since  multiple combinations of hyperparameters are going to be explored, Functions to create, compile and train a neural network models will be created for efficiency.\n",
        "\n",
        "The final hidden layer with 16 neurons is designed to refine and condense the features learned by the previous layers, reducing model complexity and enhancing generalisation."
      ],
      "metadata": {
        "id": "H9Mj71bccXc4"
      }
    },
    {
      "cell_type": "code",
      "source": [
        "# Define a function to create and compile a neural network model.\n",
        "def create_model(num_hidden_layers):\n",
        "  model = Sequential()\n",
        "  model.add(Dense(64, input_dim=(X_train.shape[-1]), activation='relu'))\n",
        "\n",
        "  # Add additional hidden layers based on num_hidden_layers\n",
        "  for _ in range(num_hidden_layers - 1):\n",
        "      model.add(Dense(64, activation='relu'))\n",
        "\n",
        "  # Add the final hidden layer\n",
        "      model.add(Dense(16, activation='relu'))\n",
        "\n",
        "  # Output layer with 1 unit and Sigmoid activation\n",
        "  model.add(Dense(1, activation='sigmoid'))\n",
        "  model.compile(loss='binary_crossentropy', optimizer=Adam(), metrics=('accuracy'))\n",
        "  return model\n",
        "\n",
        "# Define function to train the model and return history.\n",
        "def train_model(model, X_train, y_train, X_valid, y_valid,\n",
        "                verbose = 1, epochs=10, batch_size=64):\n",
        "\n",
        "    history = model.fit(X_train, y_train,\n",
        "                        epochs=epochs,\n",
        "                        batch_size=batch_size,\n",
        "                        validation_data=(X_valid, y_valid),\n",
        "                        verbose=verbose)\n",
        "    return history"
      ],
      "metadata": {
        "id": "wNzAdVtXarTU"
      },
      "execution_count": null,
      "outputs": []
    },
    {
      "cell_type": "markdown",
      "source": [
        "## 2. Define the new model"
      ],
      "metadata": {
        "id": "3E81BbVzoY7m"
      }
    },
    {
      "cell_type": "code",
      "source": [
        "# Plot function with 4 hidden layers\n",
        "num_hidden_layers = 4\n",
        "model_2 = create_model(num_hidden_layers)\n",
        "\n",
        "# Display the model summary\n",
        "model_2.summary()"
      ],
      "metadata": {
        "colab": {
          "base_uri": "https://localhost:8080/"
        },
        "id": "sSvUqty_kstJ",
        "outputId": "61eb9376-fbb2-478d-88de-5ef13f34df2f"
      },
      "execution_count": null,
      "outputs": [
        {
          "output_type": "stream",
          "name": "stdout",
          "text": [
            "Model: \"sequential_1\"\n",
            "_________________________________________________________________\n",
            " Layer (type)                Output Shape              Param #   \n",
            "=================================================================\n",
            " dense_3 (Dense)             (None, 64)                3712      \n",
            "                                                                 \n",
            " dense_4 (Dense)             (None, 64)                4160      \n",
            "                                                                 \n",
            " dense_5 (Dense)             (None, 16)                1040      \n",
            "                                                                 \n",
            " dense_6 (Dense)             (None, 64)                1088      \n",
            "                                                                 \n",
            " dense_7 (Dense)             (None, 16)                1040      \n",
            "                                                                 \n",
            " dense_8 (Dense)             (None, 64)                1088      \n",
            "                                                                 \n",
            " dense_9 (Dense)             (None, 16)                1040      \n",
            "                                                                 \n",
            " dense_10 (Dense)            (None, 1)                 17        \n",
            "                                                                 \n",
            "=================================================================\n",
            "Total params: 13185 (51.50 KB)\n",
            "Trainable params: 13185 (51.50 KB)\n",
            "Non-trainable params: 0 (0.00 Byte)\n",
            "_________________________________________________________________\n"
          ]
        }
      ]
    },
    {
      "cell_type": "markdown",
      "source": [
        "## 3. Train and evaluate the model"
      ],
      "metadata": {
        "id": "cz2_NFUyacnr"
      }
    },
    {
      "cell_type": "code",
      "source": [
        "# Fit the model_2\n",
        "train_model(model_2, X_train, y_train, X_valid, y_valid, verbose = 1 )\n",
        "\n",
        "# Evaluate model_2.\n",
        "loss_2, accuracy_2 = model_2.evaluate(X_test, y_test)\n",
        "\n",
        "# View the output.\n",
        "print(\"\\nShape of training data (y_train): \", y_train.shape)\n",
        "print(f'\\nModel_2 Test Loss: {loss_2}, Model_2 Test Accuracy: {accuracy_2}')\n",
        "\n",
        "# View the Initial Model output for comparison\n",
        "print(f'Initial Model Test Loss: {loss}, Initial Model Test Accuracy: {accuracy}')"
      ],
      "metadata": {
        "id": "LDrogYFDasLp",
        "colab": {
          "base_uri": "https://localhost:8080/"
        },
        "outputId": "fadb66ae-c291-48c9-f04a-a3834fac37a8"
      },
      "execution_count": null,
      "outputs": [
        {
          "output_type": "stream",
          "name": "stdout",
          "text": [
            "Epoch 1/10\n",
            "52/52 [==============================] - 2s 10ms/step - loss: 0.4768 - accuracy: 0.7905 - val_loss: 0.2299 - val_accuracy: 0.9239\n",
            "Epoch 2/10\n",
            "52/52 [==============================] - 0s 5ms/step - loss: 0.2231 - accuracy: 0.9251 - val_loss: 0.2112 - val_accuracy: 0.9239\n",
            "Epoch 3/10\n",
            "52/52 [==============================] - 0s 5ms/step - loss: 0.1810 - accuracy: 0.9390 - val_loss: 0.1899 - val_accuracy: 0.9321\n",
            "Epoch 4/10\n",
            "52/52 [==============================] - 0s 5ms/step - loss: 0.1582 - accuracy: 0.9460 - val_loss: 0.1968 - val_accuracy: 0.9321\n",
            "Epoch 5/10\n",
            "52/52 [==============================] - 0s 6ms/step - loss: 0.1376 - accuracy: 0.9502 - val_loss: 0.2099 - val_accuracy: 0.9293\n",
            "Epoch 6/10\n",
            "52/52 [==============================] - 0s 8ms/step - loss: 0.1278 - accuracy: 0.9532 - val_loss: 0.2006 - val_accuracy: 0.9266\n",
            "Epoch 7/10\n",
            "52/52 [==============================] - 0s 8ms/step - loss: 0.1130 - accuracy: 0.9586 - val_loss: 0.2086 - val_accuracy: 0.9293\n",
            "Epoch 8/10\n",
            "52/52 [==============================] - 0s 8ms/step - loss: 0.1158 - accuracy: 0.9583 - val_loss: 0.2030 - val_accuracy: 0.9375\n",
            "Epoch 9/10\n",
            "52/52 [==============================] - 0s 6ms/step - loss: 0.1006 - accuracy: 0.9668 - val_loss: 0.2308 - val_accuracy: 0.9293\n",
            "Epoch 10/10\n",
            "52/52 [==============================] - 0s 7ms/step - loss: 0.0969 - accuracy: 0.9662 - val_loss: 0.2193 - val_accuracy: 0.9212\n",
            "29/29 [==============================] - 0s 3ms/step - loss: 0.1572 - accuracy: 0.9457\n",
            "\n",
            "Shape of training data (y_train):  (3312,)\n",
            "\n",
            "Model_2 Test Loss: 0.15715594589710236, Model_2 Test Accuracy: 0.9457111954689026\n",
            "Initial Model Test Loss: 0.1582847237586975, Initial Model Test Accuracy: 0.9435396194458008\n"
          ]
        }
      ]
    },
    {
      "cell_type": "markdown",
      "source": [
        "**Model Assessment and Interpretation:**\n",
        "\n",
        "Including additional layers initially resulted in a minimal increase in accuracy (from 94.57% to 94.24%) but also a slight increase in loss. The Spambase dataset has 57 features and 4601 samples, making it suitable for training a neural network model. The chosen architecture with 13,185 parameters in Model_2 is reasonable, though the initial model had only 5,825 parameters.\n",
        "\n",
        "It's important to note that randomness in the training process, such as the random initialisation of weights, data shuffling, and the stochastic nature of optimisation algorithms, can impact the results. This can lead to variability in model performance across different runs. Setting random seeds can help mitigate this variability and achieve more consistent results. Different configurations of layers and number of number of neurons will be explored to test this.\n"
      ],
      "metadata": {
        "id": "SXDajk_RoMGs"
      }
    },
    {
      "cell_type": "markdown",
      "source": [
        "## 4. Additional models with number of parameters"
      ],
      "metadata": {
        "id": "dISv1NxYpj8V"
      }
    },
    {
      "cell_type": "code",
      "source": [
        "# Function is amended to allow better manipulation of number of neurons\n",
        "def create_model_new(num_hidden_layers, first_hidden_neuron, middle_hidden_neuron, final_hidden_neuron):\n",
        "  model = Sequential()\n",
        "  model.add(Dense(first_hidden_neuron, input_dim=(X_train.shape[-1]), activation='relu'))\n",
        "\n",
        "  # Add additional hidden layers based on num_hidden_layers\n",
        "  for _ in range(num_hidden_layers -1):\n",
        "      model.add(Dense(middle_hidden_neuron, activation='relu'))\n",
        "\n",
        "  # Add the final hidden layer\n",
        "      model.add(Dense(final_hidden_neuron, activation='relu'))\n",
        "\n",
        "  # Output layer with 1 unit and Sigmoid activation\n",
        "  model.add(Dense(1, activation='sigmoid'))\n",
        "  model.compile(loss='binary_crossentropy', optimizer=Adam(), metrics=('accuracy'))\n",
        "  return model"
      ],
      "metadata": {
        "id": "jKjZiwpFnorJ"
      },
      "execution_count": null,
      "outputs": []
    },
    {
      "cell_type": "code",
      "source": [
        "# Plot Model_3\n",
        "model_3 = create_model_new(num_hidden_layers = 6,\n",
        "                       first_hidden_neuron = 32,\n",
        "                       middle_hidden_neuron = 16,\n",
        "                       final_hidden_neuron = 16)\n",
        "# Plot Model_4\n",
        "model_4 = create_model_new(num_hidden_layers = 3,\n",
        "                       first_hidden_neuron = 64,\n",
        "                       middle_hidden_neuron = 32,\n",
        "                       final_hidden_neuron = 16)\n",
        "\n",
        "# Plot Model_5\n",
        "model_5 = create_model_new(num_hidden_layers = 5,\n",
        "                       first_hidden_neuron = 64,\n",
        "                       middle_hidden_neuron = 32,\n",
        "                       final_hidden_neuron = 16)\n",
        "\n",
        "# Display the model summary\n",
        "model_3.summary()\n",
        "model_4.summary()\n",
        "model_5.summary()\n",
        "\n",
        "# On reflection, a function to plot the models with varying number of layers and neurons will be considered for future work"
      ],
      "metadata": {
        "colab": {
          "base_uri": "https://localhost:8080/"
        },
        "id": "1dFnAitkn7TP",
        "outputId": "2bdf998a-9fc9-417a-dcdb-b17bfd77f2ec"
      },
      "execution_count": null,
      "outputs": [
        {
          "output_type": "stream",
          "name": "stdout",
          "text": [
            "Model: \"sequential_2\"\n",
            "_________________________________________________________________\n",
            " Layer (type)                Output Shape              Param #   \n",
            "=================================================================\n",
            " dense_11 (Dense)            (None, 32)                1856      \n",
            "                                                                 \n",
            " dense_12 (Dense)            (None, 16)                528       \n",
            "                                                                 \n",
            " dense_13 (Dense)            (None, 16)                272       \n",
            "                                                                 \n",
            " dense_14 (Dense)            (None, 16)                272       \n",
            "                                                                 \n",
            " dense_15 (Dense)            (None, 16)                272       \n",
            "                                                                 \n",
            " dense_16 (Dense)            (None, 16)                272       \n",
            "                                                                 \n",
            " dense_17 (Dense)            (None, 16)                272       \n",
            "                                                                 \n",
            " dense_18 (Dense)            (None, 16)                272       \n",
            "                                                                 \n",
            " dense_19 (Dense)            (None, 16)                272       \n",
            "                                                                 \n",
            " dense_20 (Dense)            (None, 16)                272       \n",
            "                                                                 \n",
            " dense_21 (Dense)            (None, 16)                272       \n",
            "                                                                 \n",
            " dense_22 (Dense)            (None, 1)                 17        \n",
            "                                                                 \n",
            "=================================================================\n",
            "Total params: 4849 (18.94 KB)\n",
            "Trainable params: 4849 (18.94 KB)\n",
            "Non-trainable params: 0 (0.00 Byte)\n",
            "_________________________________________________________________\n",
            "Model: \"sequential_3\"\n",
            "_________________________________________________________________\n",
            " Layer (type)                Output Shape              Param #   \n",
            "=================================================================\n",
            " dense_23 (Dense)            (None, 64)                3712      \n",
            "                                                                 \n",
            " dense_24 (Dense)            (None, 32)                2080      \n",
            "                                                                 \n",
            " dense_25 (Dense)            (None, 16)                528       \n",
            "                                                                 \n",
            " dense_26 (Dense)            (None, 32)                544       \n",
            "                                                                 \n",
            " dense_27 (Dense)            (None, 16)                528       \n",
            "                                                                 \n",
            " dense_28 (Dense)            (None, 1)                 17        \n",
            "                                                                 \n",
            "=================================================================\n",
            "Total params: 7409 (28.94 KB)\n",
            "Trainable params: 7409 (28.94 KB)\n",
            "Non-trainable params: 0 (0.00 Byte)\n",
            "_________________________________________________________________\n",
            "Model: \"sequential_4\"\n",
            "_________________________________________________________________\n",
            " Layer (type)                Output Shape              Param #   \n",
            "=================================================================\n",
            " dense_29 (Dense)            (None, 64)                3712      \n",
            "                                                                 \n",
            " dense_30 (Dense)            (None, 32)                2080      \n",
            "                                                                 \n",
            " dense_31 (Dense)            (None, 16)                528       \n",
            "                                                                 \n",
            " dense_32 (Dense)            (None, 32)                544       \n",
            "                                                                 \n",
            " dense_33 (Dense)            (None, 16)                528       \n",
            "                                                                 \n",
            " dense_34 (Dense)            (None, 32)                544       \n",
            "                                                                 \n",
            " dense_35 (Dense)            (None, 16)                528       \n",
            "                                                                 \n",
            " dense_36 (Dense)            (None, 32)                544       \n",
            "                                                                 \n",
            " dense_37 (Dense)            (None, 16)                528       \n",
            "                                                                 \n",
            " dense_38 (Dense)            (None, 1)                 17        \n",
            "                                                                 \n",
            "=================================================================\n",
            "Total params: 9553 (37.32 KB)\n",
            "Trainable params: 9553 (37.32 KB)\n",
            "Non-trainable params: 0 (0.00 Byte)\n",
            "_________________________________________________________________\n"
          ]
        }
      ]
    },
    {
      "cell_type": "code",
      "source": [
        "# Fit the models\n",
        "train_model(model_3, X_train, y_train, X_valid, y_valid, verbose = 0 )\n",
        "train_model(model_4, X_train, y_train, X_valid, y_valid, verbose = 0 )\n",
        "train_model(model_5, X_train, y_train, X_valid, y_valid, verbose = 0 )\n",
        "\n",
        "# Evaluate models\n",
        "loss_3, accuracy_3 = model_3.evaluate(X_test, y_test)\n",
        "loss_4, accuracy_4 = model_4.evaluate(X_test, y_test)\n",
        "loss_5, accuracy_5 = model_5.evaluate(X_test, y_test)\n",
        "\n",
        "# On reflection, a function to train and evaluate the models with varying number of layers and neurons will be considered for future work\n",
        "\n",
        "# View the output.\n",
        "print(\"\\nShape of training data (y_train): \", y_train.shape)\n",
        "\n",
        "print(f'\\nModel_3 Test Loss: {loss_3}, Model_3 Test Accuracy: {accuracy_3}')\n",
        "print(f'\\nModel_4 Test Loss: {loss_4}, Model_4 Test Accuracy: {accuracy_4}')\n",
        "print(f'\\nModel_5 Test Loss: {loss_5}, Model_5 Test Accuracy: {accuracy_5}')\n",
        "\n",
        "# View the previous model outputs for comparison\n",
        "print(f'\\nModel_2 Test Loss: {loss_2}, Model_2 Test Accuracy: {accuracy_2}')\n",
        "print(f'Initial Model Test Loss: {loss}, Initial Model Test Accuracy: {accuracy}')"
      ],
      "metadata": {
        "colab": {
          "base_uri": "https://localhost:8080/"
        },
        "id": "fVu_IkhWoAxk",
        "outputId": "61125eb0-4728-4757-e157-6cee146784d6"
      },
      "execution_count": null,
      "outputs": [
        {
          "output_type": "stream",
          "name": "stdout",
          "text": [
            "29/29 [==============================] - 0s 3ms/step - loss: 0.1686 - accuracy: 0.9403\n",
            "29/29 [==============================] - 0s 2ms/step - loss: 0.1541 - accuracy: 0.9414\n",
            "29/29 [==============================] - 0s 2ms/step - loss: 0.1949 - accuracy: 0.9381\n",
            "\n",
            "Shape of training data (y_train):  (3312,)\n",
            "\n",
            "Model_3 Test Loss: 0.1685934066772461, Model_3 Test Accuracy: 0.9402822852134705\n",
            "\n",
            "Model_4 Test Loss: 0.15411391854286194, Model_4 Test Accuracy: 0.9413681030273438\n",
            "\n",
            "Model_5 Test Loss: 0.1949470043182373, Model_5 Test Accuracy: 0.9381107687950134\n",
            "\n",
            "Model_2 Test Loss: 0.15715594589710236, Model_2 Test Accuracy: 0.9457111954689026\n",
            "Initial Model Test Loss: 0.1582847237586975, Initial Model Test Accuracy: 0.9435396194458008\n"
          ]
        }
      ]
    },
    {
      "cell_type": "markdown",
      "source": [
        "Interpretation:\n",
        "- The adjustments to the number of parameters do not show consistent results when running the model multiple times. However, all cases presented losses and accuracies with minimal differences, indicating that while different configurations impact the model's performance, the variations are relatively small.\n",
        "- The Initial Model will be carried forward for further hyperparameter tuning for the purpose of the activity.\n",
        "\n"
      ],
      "metadata": {
        "id": "TnIaS3QKnNAv"
      }
    },
    {
      "cell_type": "markdown",
      "source": [
        "## 4. Experiment with number of layers"
      ],
      "metadata": {
        "id": "czV-x9yU0yzp"
      }
    },
    {
      "cell_type": "code",
      "source": [
        "# Define the number of layers for the models\n",
        "num_layers_list = [1, 2, 3, 4, 5, 6, 7]  # Different number of layers to try\n",
        "\n",
        "best_model = None\n",
        "best_accuracy = 0\n",
        "best_layers = 0\n",
        "\n",
        "# Iterate through different numbers of layers\n",
        "for num_layers in num_layers_list:\n",
        "    print(f\"\\nTraining model with {num_layers} layers...\")\n",
        "    model = create_model(num_hidden_layers = num_layers)\n",
        "\n",
        "    # Train the model\n",
        "    model.fit(X_train, y_train,\n",
        "              epochs=10,\n",
        "              batch_size=128,\n",
        "              validation_data=(X_valid, y_valid),\n",
        "              verbose=0)\n",
        "\n",
        "    # Evaluate the model\n",
        "    _, accuracy = model.evaluate(X_test, y_test, verbose=0)\n",
        "\n",
        "    print(f\"Model with {num_layers} layers - Test accuracy: {accuracy}\")\n",
        "\n",
        "    # If current model has higher accuracy, save it as the best model\n",
        "    if accuracy > best_accuracy:\n",
        "        best_accuracy = accuracy\n",
        "        best_model = model\n",
        "        best_layers = num_layers\n",
        "\n",
        "print(f\"\\nBest model found with {best_layers} layers and accuracy: {best_accuracy}\")\n",
        "\n",
        "# Save the best model architecture and weights\n",
        "best_model.save('best_model_layers.keras')"
      ],
      "metadata": {
        "colab": {
          "base_uri": "https://localhost:8080/"
        },
        "id": "YvXywThp05eF",
        "outputId": "0c58e661-a3a5-42f3-bce9-1300c15e5bab"
      },
      "execution_count": null,
      "outputs": [
        {
          "output_type": "stream",
          "name": "stdout",
          "text": [
            "\n",
            "Training model with 1 layers...\n",
            "Model with 1 layers - Test accuracy: 0.9337676167488098\n",
            "\n",
            "Training model with 2 layers...\n",
            "Model with 2 layers - Test accuracy: 0.9424538612365723\n",
            "\n",
            "Training model with 3 layers...\n",
            "Model with 3 layers - Test accuracy: 0.9446253776550293\n",
            "\n",
            "Training model with 4 layers...\n",
            "Model with 4 layers - Test accuracy: 0.9413681030273438\n",
            "\n",
            "Training model with 5 layers...\n",
            "Model with 5 layers - Test accuracy: 0.9370249509811401\n",
            "\n",
            "Training model with 6 layers...\n",
            "Model with 6 layers - Test accuracy: 0.9435396194458008\n",
            "\n",
            "Training model with 7 layers...\n",
            "Model with 7 layers - Test accuracy: 0.9424538612365723\n",
            "\n",
            "Best model found with 3 layers and accuracy: 0.9446253776550293\n"
          ]
        }
      ]
    },
    {
      "cell_type": "markdown",
      "source": [
        "##4. Experiment with batch sizes"
      ],
      "metadata": {
        "id": "mKgWBlE3agPF"
      }
    },
    {
      "cell_type": "code",
      "source": [
        "# Define batch sizes to experiment with\n",
        "batch_size_list = [16, 32, 64, 128]  # Different batch sizes to try\n",
        "best_batch_size = 0\n",
        "\n",
        "# Iterate through different batch sizes using the best model architecture and weights\n",
        "for batch_size in batch_size_list:\n",
        "    print(f\"\\nTraining model with {best_layers} layers and batch size {batch_size}...\")\n",
        "\n",
        "    # Train the model\n",
        "    best_model.fit(X_train, y_train,\n",
        "                   epochs=10,\n",
        "                   batch_size=batch_size,\n",
        "                   validation_data=(X_valid, y_valid),\n",
        "                   verbose=0)\n",
        "\n",
        "    # Evaluate the model\n",
        "    _, accuracy = best_model.evaluate(X_test, y_test, verbose=0)\n",
        "\n",
        "    print(f\"Model with batch size {batch_size} - Test accuracy: {accuracy}\")\n",
        "\n",
        "    # If current model has higher accuracy\n",
        "    if accuracy > best_accuracy:\n",
        "        best_accuracy = accuracy\n",
        "        best_batch_size = batch_size\n",
        "\n",
        "print(f\"\\nBest model found with accuracy: {best_accuracy}\")\n"
      ],
      "metadata": {
        "id": "DdvztLyAasoN",
        "colab": {
          "base_uri": "https://localhost:8080/"
        },
        "outputId": "79f02655-2fe5-476f-8fc6-fa2694e67131"
      },
      "execution_count": null,
      "outputs": [
        {
          "output_type": "stream",
          "name": "stdout",
          "text": [
            "\n",
            "Training model with 3 layers and batch size 16...\n",
            "Model with batch size 16 - Test accuracy: 0.9435396194458008\n",
            "\n",
            "Training model with 3 layers and batch size 32...\n",
            "Model with batch size 32 - Test accuracy: 0.9533116221427917\n",
            "\n",
            "Training model with 3 layers and batch size 64...\n",
            "Model with batch size 64 - Test accuracy: 0.9478827118873596\n",
            "\n",
            "Training model with 3 layers and batch size 128...\n",
            "Model with batch size 128 - Test accuracy: 0.9467969536781311\n",
            "\n",
            "Best model found with accuracy: 0.9533116221427917\n"
          ]
        }
      ]
    },
    {
      "cell_type": "markdown",
      "source": [
        "##5. Experiment with epochs"
      ],
      "metadata": {
        "id": "4Q5CJy0TamXL"
      }
    },
    {
      "cell_type": "code",
      "source": [
        "# Define number of epochs to work with\n",
        "epochs_list = [10, 20, 30]\n",
        "best_epochs = 0\n",
        "\n",
        "# Iterate through different numbers of epochs using the best model architecture and weights\n",
        "for epochs in epochs_list:\n",
        "    print(f\"\\nTraining best model with {epochs} epochs...\")\n",
        "    best_model.fit(X_train, y_train, epochs=epochs,\n",
        "                   batch_size=best_batch_size, validation_data=(X_valid, y_valid),\n",
        "                   verbose=0)\n",
        "\n",
        "    # Evaluate the model\n",
        "    _, accuracy = best_model.evaluate(X_test, y_test, verbose=0)\n",
        "    print(f\"Best model with {epochs} epochs - Test accuracy: {accuracy}\")\n",
        "\n",
        "    # If current model has higher accuracy, save it as the best model\n",
        "    if accuracy > best_accuracy:\n",
        "        best_accuracy = accuracy\n",
        "        best_epochs = epochs\n",
        "\n",
        "print(f\"\\nBest model found with accuracy: {best_accuracy}\")"
      ],
      "metadata": {
        "id": "GkmDu50VatQS",
        "colab": {
          "base_uri": "https://localhost:8080/"
        },
        "outputId": "dacba04e-f5af-418d-fb8a-c37b101d7a33"
      },
      "execution_count": null,
      "outputs": [
        {
          "output_type": "stream",
          "name": "stdout",
          "text": [
            "\n",
            "Training best model with 10 epochs...\n",
            "Best model with 10 epochs - Test accuracy: 0.9457111954689026\n",
            "\n",
            "Training best model with 20 epochs...\n",
            "Best model with 20 epochs - Test accuracy: 0.9478827118873596\n",
            "\n",
            "Training best model with 30 epochs...\n",
            "Best model with 30 epochs - Test accuracy: 0.9381107687950134\n",
            "\n",
            "Best model found with accuracy: 0.9533116221427917\n"
          ]
        }
      ]
    },
    {
      "cell_type": "markdown",
      "source": [
        "## 6. Best Model Training and Evaluation"
      ],
      "metadata": {
        "id": "1JBIhOOufZWa"
      }
    },
    {
      "cell_type": "markdown",
      "source": [
        "- It is noted that the some of the parameters may be set as 0 when running the analysis. This is because the initial parameters assumed for tuning the number of layers were optimal by chance.\n",
        "- The analysis during the hyperparameter tuning process is not 100% consistent each time the code is run, therefore it is possible that the list of batch sizes or epochs may produce a slightly lower accuracy than the values assumed for initial layer tuning.\n",
        "\n",
        "For the purpose of evaluation, the best values have been re-defined below."
      ],
      "metadata": {
        "id": "JgkN4ucJmFa9"
      }
    },
    {
      "cell_type": "code",
      "source": [
        "if best_batch_size == 0:\n",
        "  best_batch_size = 128 # Initial batch size\n",
        "\n",
        "if best_epochs == 0:\n",
        "  best_epochs = 10 # Initial number of epochs"
      ],
      "metadata": {
        "id": "lWN3NfalmouU"
      },
      "execution_count": null,
      "outputs": []
    },
    {
      "cell_type": "code",
      "source": [
        "# Hyperparameters for best model\n",
        "print(f\"\\nBest model produces accuracy of {best_accuracy} with {best_layers} layers, a batch size of {best_batch_size} and {best_epochs} epochs\")\n"
      ],
      "metadata": {
        "colab": {
          "base_uri": "https://localhost:8080/"
        },
        "id": "GYbLyA3TfYe0",
        "outputId": "f8d586d2-189c-41c2-cbe8-82612736776e"
      },
      "execution_count": null,
      "outputs": [
        {
          "output_type": "stream",
          "name": "stdout",
          "text": [
            "\n",
            "Best model produces accuracy of 0.9533116221427917 with 3 layers, a batch size of 32 and 10 epochs\n"
          ]
        }
      ]
    },
    {
      "cell_type": "code",
      "source": [
        "# Train the model with the optimal hyperparameters.\n",
        "histories = []\n",
        "\n",
        "history = train_model(best_model, X_train, y_train, X_valid, y_valid,\n",
        "                verbose = 1, epochs=best_epochs, batch_size=best_batch_size)\n",
        "\n",
        "histories.append(history)"
      ],
      "metadata": {
        "colab": {
          "base_uri": "https://localhost:8080/"
        },
        "id": "dLIYgMVioo7G",
        "outputId": "a652b008-c5c2-4843-d896-449e9d4c8012"
      },
      "execution_count": null,
      "outputs": [
        {
          "output_type": "stream",
          "name": "stdout",
          "text": [
            "Epoch 1/10\n",
            "104/104 [==============================] - 0s 4ms/step - loss: 0.0249 - accuracy: 0.9909 - val_loss: 0.4853 - val_accuracy: 0.9049\n",
            "Epoch 2/10\n",
            "104/104 [==============================] - 0s 4ms/step - loss: 0.0244 - accuracy: 0.9918 - val_loss: 0.5518 - val_accuracy: 0.9239\n",
            "Epoch 3/10\n",
            "104/104 [==============================] - 0s 4ms/step - loss: 0.0237 - accuracy: 0.9912 - val_loss: 0.5579 - val_accuracy: 0.9158\n",
            "Epoch 4/10\n",
            "104/104 [==============================] - 0s 4ms/step - loss: 0.0198 - accuracy: 0.9925 - val_loss: 0.5640 - val_accuracy: 0.9212\n",
            "Epoch 5/10\n",
            "104/104 [==============================] - 0s 4ms/step - loss: 0.0151 - accuracy: 0.9952 - val_loss: 0.5879 - val_accuracy: 0.9185\n",
            "Epoch 6/10\n",
            "104/104 [==============================] - 0s 3ms/step - loss: 0.0134 - accuracy: 0.9949 - val_loss: 0.6587 - val_accuracy: 0.9185\n",
            "Epoch 7/10\n",
            "104/104 [==============================] - 0s 4ms/step - loss: 0.0156 - accuracy: 0.9943 - val_loss: 0.6709 - val_accuracy: 0.9185\n",
            "Epoch 8/10\n",
            "104/104 [==============================] - 0s 4ms/step - loss: 0.0172 - accuracy: 0.9937 - val_loss: 0.6121 - val_accuracy: 0.9212\n",
            "Epoch 9/10\n",
            "104/104 [==============================] - 0s 4ms/step - loss: 0.0139 - accuracy: 0.9946 - val_loss: 0.6540 - val_accuracy: 0.9212\n",
            "Epoch 10/10\n",
            "104/104 [==============================] - 0s 4ms/step - loss: 0.0133 - accuracy: 0.9949 - val_loss: 0.6974 - val_accuracy: 0.9130\n"
          ]
        }
      ]
    },
    {
      "cell_type": "code",
      "source": [
        "# Plot training & validation loss values\n",
        "plt.figure(figsize=(10, 6))\n",
        "plt.plot(history.history['loss'])\n",
        "plt.plot(history.history['val_loss'])\n",
        "plt.title('Training and Validation Loss (Post-Hyperparameter Tuning)')\n",
        "plt.ylabel('Accuracy')\n",
        "plt.ylabel('Loss')\n",
        "plt.xlabel('Epoch')\n",
        "plt.legend(['Train', 'Validation'], loc='upper right')\n",
        "plt.show()"
      ],
      "metadata": {
        "colab": {
          "base_uri": "https://localhost:8080/",
          "height": 564
        },
        "id": "XvWRQeF8vQ2I",
        "outputId": "ff22a007-cef7-4bd5-de29-bc7d9f843d37"
      },
      "execution_count": null,
      "outputs": [
        {
          "output_type": "display_data",
          "data": {
            "text/plain": [
              "<Figure size 1000x600 with 1 Axes>"
            ],
            "image/png": "[encoded data removed]"
          },
          "metadata": {}
        }
      ]
    },
    {
      "cell_type": "code",
      "source": [
        "# Plot training & validation accuracy values\n",
        "plt.figure(figsize=(10, 6))\n",
        "plt.plot(history.history['accuracy'])\n",
        "plt.plot(history.history['val_accuracy'])\n",
        "plt.title('Training and Validation Accuracy (Post-Hyperparameter Tuning)')\n",
        "plt.ylabel('Accuracy')\n",
        "plt.xlabel('Epoch')\n",
        "plt.legend(['Train', 'Validation'], loc='lower right')\n",
        "plt.show()"
      ],
      "metadata": {
        "colab": {
          "base_uri": "https://localhost:8080/",
          "height": 564
        },
        "id": "Qfmy4zmbxAu7",
        "outputId": "367aac98-d5f5-469f-cb0a-aaaf5976dfc7"
      },
      "execution_count": null,
      "outputs": [
        {
          "output_type": "display_data",
          "data": {
            "text/plain": [
              "<Figure size 1000x600 with 1 Axes>"
            ],
            "image/png": "[encoded data removed]"
          },
          "metadata": {}
        }
      ]
    },
    {
      "cell_type": "markdown",
      "source": [
        "# References\n",
        "\n",
        "Hopkins, M., Reeber, E., Forman, G., Suermondt, J., 1999. Spambase. [online]. Available at: https://archive.ics.uci.edu/dataset/94. [Accessed 5 March 2024]."
      ],
      "metadata": {
        "id": "3eFvGWOueOt5"
      }
    }
  ]
}